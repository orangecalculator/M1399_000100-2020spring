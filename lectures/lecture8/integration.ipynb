{
 "cells": [
  {
   "cell_type": "code",
   "execution_count": null,
   "metadata": {},
   "outputs": [],
   "source": [
    "sessionInfo()"
   ]
  },
  {
   "cell_type": "code",
   "execution_count": null,
   "metadata": {},
   "outputs": [],
   "source": [
    "library(ggplot2)"
   ]
  },
  {
   "cell_type": "markdown",
   "metadata": {},
   "source": [
    "# Numerical integration\n",
    "\n",
    "### Goal\n",
    "\n",
    "To evaluate $\\int_a^b f(x) dx$, $f:[a, b] \\to \\mathbb{R}$.\n",
    "\n",
    "* Only a few functions can be integrated analytically\n",
    "* For the rest, we resort to numerical approximation\n",
    "\n",
    "Why do we need integrals?\n",
    "\n",
    "1. Expectation\n",
    "    - $X$ has some density on $[0, 1]$; $Y = \\sin(X)$\n",
    "    - $\\mathbf{E}[Z] = \\int_0^1 \\sin(x)f_X(x)dx$\n",
    "    \n",
    "2. Bayesian inference\n",
    "    - Parameter $\\theta$ has a prior density $f_{\\Theta}(\\theta)$ on $\\mathbb{R}$\n",
    "    - Likelihood of data $x$ is $f_{X|\\Theta}(x|\\theta)$\n",
    "    - Want to evaluate the posterior density\n",
    "$$\n",
    "    f_{\\Theta|X}(\\theta|x) = \\frac{f_{X|\\Theta}(x|\\theta)f_{\\Theta}(\\theta)}{\\int_{-\\infty}^{\\infty} f_{X|\\Theta}(x|\\theta')f_{\\Theta}(\\theta')d\\theta'}\n",
    "$$\n",
    "    - The integral in the denominator may not be analytically solved.\n",
    "\n",
    "3. MLE of structured data\n",
    "    - Data: $y_{ij}$ = # recalled words by $i$th patient of Alzheimer's disease in $j$th month, $i=1,\\dotsc, n$, $j=1, \\dotsc, T$\n",
    "    - Model:\n",
    "\\begin{align*}\n",
    "    Y_{ij} | \\lambda_{ij} &\\stackrel{indep}{\\sim} \\text{Poi}(\\lambda_{ij}), \\quad j=1,\\dotsc, T\\\\\n",
    "    \\lambda_{ij} &= \\exp(\\gamma_i + \\beta_0 + j\\beta_1) \\\\\n",
    "    \\gamma_i &\\stackrel{i.i.d.}{\\sim} N(0, \\sigma^2), \\quad i=1, \\dots, n\n",
    "\\end{align*}\n",
    "    - Called a generaized linear mixed model (here, Poisson GLM with a *random intercept*)\n",
    "    - Likelihood:\n",
    "\\begin{align*}\n",
    "    L(\\beta_0, \\beta_1, \\sigma^2) &= \\prod_{i=1}^n p(y_{i1}, \\dotsc, y_{iT}) \\\\\n",
    "        &= \\prod_{i=1}^n \\int_{-\\infty}^{\\infty} \\prod_{j=1}^T p(y_{ij} | \\lambda_{ij}(\\gamma_i) ) f(\\gamma_i)d\\gamma_i \\\\\n",
    "        &= \\prod_{i=1}^n \\int_{-\\infty}^{\\infty} \\prod_{j=1}^T e^{-\\lambda_{ij}(\\gamma_i)}\\frac{\\lambda_{ij}^{y_{ij}}(\\gamma_i)}{y_{ij}!}\\frac{1}{\\sqrt{2\\pi\\sigma^2}}e^{-\\frac{\\gamma_i^2}{2\\sigma^2}}d\\gamma_i, \\\\\n",
    "    \\text{where}~~ & \\lambda_{ij}(\\gamma_i) = \\exp(\\gamma_i + \\beta_0 + j\\beta_1).    \n",
    "\\end{align*}\n",
    "    - Likelihood function (hence score function) consists of integrals, which in most case do not have closed form.\n",
    "    \n",
    "What should we do?\n",
    "\n",
    "* Quadrature methods (now) - goes back to Archimedes\n",
    "* Monte Carlo methods (next) - 20th century invention"
   ]
  },
  {
   "cell_type": "markdown",
   "metadata": {},
   "source": [
    "## Newton-Côtes Quadrature\n",
    "\n",
    "* Key idea: \n",
    "    1. Subdivide the integration domain $[a, b]$ into $n$ *equally spaced* subintervals $[x_i, x_{i+1}]$ of length $h=\\frac{b - a}{n}$, i.e., $x_i = a + i h$, $i=0, 1, \\dotsc, n-1$.\n",
    "    2. Approximate the integrand $f$ on $[x_i, x_{i+1}]$ by an *interpolating polynomial* $p_i$ of order $m$.\n",
    "    3. Approximate $I_i = \\int_{x_i}^{x_{i+1}}f(x)dx$ by $\\int_{x_i}^{x_{i+1}}p_i(x)dx$. We know compute to do the latter exactly.\n",
    "    4. Approximate the integral $I=\\int_a^b f(x)dx$ by $\\sum_{i=0}^{n-1} I_i$.\n",
    "    \n",
    "* If $n$ is sufficiently large, the approximation will be accurate enough.    \n",
    "\n",
    "* Choice of order $m$ makes difference:\n",
    "    - $m = 0$: Riemann (rectangular) rule\n",
    "    - $m = 1$: Trapezoidal rule\n",
    "    - $m = 2$: Simpson's rule\n",
    "\n",
    "<img src=\"./quadrature.png\" width=\"600\" align=\"center\"/>\n",
    "(Taken from Givens and Hoeting)"
   ]
  },
  {
   "cell_type": "markdown",
   "metadata": {},
   "source": [
    "### Riemann rule\n",
    "\n",
    "* Approximate $f$ on $[x_i, x_{i+1}]$ by a constant function $f(x_i)$:\n",
    "$$\n",
    "    I_i = \\int_{x_i}^{x_{i+1}}f(x)dx \\approx \\int_{x_i}^{x_{i+1}}f(x_i)dx = (x_{i+1} - x_i)f(x_i) = h f(x_i).\n",
    "$$\n",
    "\n",
    "* How accurate is the Riemann rule? Assume that $f$ is four-times continuously differentiable. Then,\n",
    "$$\n",
    "    f(x) = f(x_i) + (x - x_i)f'(x_i) + \\frac{1}{2}(x - x_i)^2 f''(x_i) + \\frac{1}{6}(x - x_i)^3f^{(3)}(x_i) + O(|x - x_i|^4)\n",
    "$$\n",
    "and\n",
    "$$\n",
    "    I_i = \\int_{x_i}^{x_{i+1}}f(x)dx = h f(x_i) + \\frac{h^2}{2}f'(x_i) + \\frac{h^3}{6}f''(x_i) + O(h^4)\n",
    "    .\n",
    "$$\n",
    "Therefore, \n",
    "\\begin{align*}\n",
    "    \\text{(error)} = \\sum_{i=0}^{n-1}(I_i - h f(x_i)) &= \\frac{h^2}{2}\\sum_{i=0}^{n-1}f'(x_i) + n O(h^3) \\\\\n",
    "    &\\le \\frac{(b-a)^2}{2n^2} n \\sup_{x\\in [a, b]}|f'(x)| + n O\\left(\\frac{(b-a)^3}{n^3}\\right) \\\\\n",
    "    &= O(n^{-1})\n",
    "    .\n",
    "\\end{align*}"
   ]
  },
  {
   "cell_type": "code",
   "execution_count": null,
   "metadata": {},
   "outputs": [],
   "source": [
    "riemann <- function(f, a, b, n) {\n",
    "    h <- (b - a) / n   \n",
    "    \n",
    "    xi <- seq.int(a, b, length.out = n + 1)\n",
    "    xi <- xi[-1]\n",
    "    xi <- xi[-length(xi)]\n",
    "\n",
    "    intgrl <- h * (f(a) + sum(f(xi)) + f(b))\n",
    "    \n",
    "    return(intgrl)\n",
    "}"
   ]
  },
  {
   "cell_type": "code",
   "execution_count": null,
   "metadata": {},
   "outputs": [],
   "source": [
    "f <- function(x) sin(x)  # integrand: example above with uniform X\n",
    "(truth <- 1 - cos(1)) # true integral"
   ]
  },
  {
   "cell_type": "code",
   "execution_count": null,
   "metadata": {},
   "outputs": [],
   "source": [
    "riemann(f, 0, 1, 100)"
   ]
  },
  {
   "cell_type": "code",
   "execution_count": null,
   "metadata": {},
   "outputs": [],
   "source": [
    "numsub <- c(10, 100, 1000, 10000, 100000)\n",
    "err_R <- numeric(length(numsub))\n",
    "for (i in seq_along(numsub)) {\n",
    "    n <- numsub[i]\n",
    "    R <- riemann(f, 0, 1, n)\n",
    "    err_R[i] <- R - truth\n",
    "}"
   ]
  },
  {
   "cell_type": "code",
   "execution_count": null,
   "metadata": {},
   "outputs": [],
   "source": [
    "ggplot() + geom_point(aes(x=numsub, y=abs(err_R))) + geom_line(aes(x=numsub, y=abs(err_R))) + \n",
    "scale_x_log10() + scale_y_log10() + theme_bw(base_size = 15)"
   ]
  },
  {
   "cell_type": "markdown",
   "metadata": {},
   "source": [
    "### Trapezoidal rule\n",
    "\n",
    "* Approximate $f$ on $[x_i, x_{i+1}]$ by a linear function interpolating $(x_i, f(x_i))$ and $(x_{i+1}, f(x_{i+1})$, i.e.,\n",
    "$$\n",
    "    p_i(x) = f(x_i) + \\frac{f(x_{i+1}) - f(x_i)}{x_{i+1} - x_i}(x - x_i)\n",
    "    .\n",
    "$$\n",
    "So\n",
    "$$\n",
    "    I_i = \\int_{x_i}^{x_{i+1}}f(x)dx \\approx \\int_{x_i}^{x_{i+1}}p_i(x)dx = \\frac{x_{i+1} - x_i}{2}[f(x_i) + f(x_{i+1})] = \\frac{h}{2} [f(x_i) + f(x_{i+1})].\n",
    "$$\n",
    "and\n",
    "$$\n",
    "    I = \\int_a^b f(x)dx \\approx h\\left(\\frac{1}{2}f(a) + f(x_1) + \\dotsb + f(x_{n-1}) + \\frac{1}{2}f(b)\\right) =: T(n)\n",
    "    .\n",
    "$$\n",
    "* How accurate is the Trapezoidal rule? Assume again that $f$ is four-times continuously differentiable. Then,\n",
    "$$\n",
    "    f(x) = f(x_i) + (x - x_i)f'(x_i) + \\frac{1}{2}(x - x_i)^2 f''(x_i) + \\frac{1}{6}(x - x_i)^3f^{(3)}(x_i) + O(|x - x_i|^4)\n",
    "$$\n",
    "and\n",
    "$$\n",
    "    I_i = \\int_{x_i}^{x_{i+1}}f(x)dx = h f(x_i) + \\frac{h^2}{2}f'(x_i) + \\frac{h^3}{6}f''(x_i) + \\frac{h^4}{24}f^{(3)}(x_i) + O(h^5)\n",
    "    .\n",
    "$$\n",
    "Also,\n",
    "\\begin{align*}\n",
    "    \\int_{x_i}^{x_{i+1}}p_i(x)dx &= \\frac{h}{2} [f(x_i) + f(x_i+h)] \\\\\n",
    "    &= \\frac{h}{2}\\left( f(x_i) + f(x_i) + h f'(x_i) + \\frac{h^2}{2}f''(x_i) + \\frac{h^3}{6}f^{(3)}(x_i) + O(h^4) \\right) \\\\\n",
    "    &= h f(x_i) + \\frac{h^2}{2}f'(x_i) + \\frac{h^3}{4}f''(x_i) + \\frac{h^4}{12}f^{(3)}(x_i) + O(h^5)\n",
    "\\end{align*}\n",
    "Therefore, \n",
    "\\begin{align*}\n",
    "    T(n) - I = \\sum_{i=0}^{n-1}\\left(I_i - \\int_{x_i}^{x_{i+1}}p_i(x)dx\\right) &= \\frac{h^3}{12}\\sum_{i=0}^{n-1}f''(x_i) + n O(h^4) \\\\\n",
    "    &\\le \\frac{(b-a)^3}{12n^3} n \\sup_{x\\in [a, b]}|f''(x)| + n O\\left(\\frac{(b-a)^4}{n^4}\\right) \\\\\n",
    "    &= O(n^{-2})\n",
    "    .\n",
    "\\end{align*}"
   ]
  },
  {
   "cell_type": "code",
   "execution_count": null,
   "metadata": {},
   "outputs": [],
   "source": [
    "trapezoidal <- function(f, a, b, n) {\n",
    "    h <- (b - a) / n   \n",
    "    \n",
    "    xi <- seq.int(a, b, length.out = n + 1)\n",
    "    xi <- xi[-1]\n",
    "    xi <- xi[-length(xi)]\n",
    "\n",
    "    intgrl <- h * (0.5 * f(a) + sum(f(xi)) + 0.5 * f(b))\n",
    "    \n",
    "    return(intgrl)\n",
    "}"
   ]
  },
  {
   "cell_type": "code",
   "execution_count": null,
   "metadata": {},
   "outputs": [],
   "source": [
    "# f <- function(x) sqrt(1-x^2)   # integrand\n",
    "trapezoidal(f, 0, 1, 100)"
   ]
  },
  {
   "cell_type": "code",
   "execution_count": null,
   "metadata": {},
   "outputs": [],
   "source": [
    "truth"
   ]
  },
  {
   "cell_type": "code",
   "execution_count": null,
   "metadata": {},
   "outputs": [],
   "source": [
    "numsub <- c(10, 100, 1000, 10000, 100000)\n",
    "err_T <- numeric(length(numsub))\n",
    "for (i in seq_along(numsub)) {\n",
    "    n <- numsub[i]\n",
    "    T <- trapezoidal(f, 0, 1, n)\n",
    "    err_T[i] <- T - truth\n",
    "}"
   ]
  },
  {
   "cell_type": "code",
   "execution_count": null,
   "metadata": {},
   "outputs": [],
   "source": [
    "ggplot() + geom_point(aes(x=numsub, y=abs(err_T))) + geom_line(aes(x=numsub, y=abs(err_T))) + \n",
    "scale_x_log10() + scale_y_log10() + theme_bw(base_size = 15)"
   ]
  },
  {
   "cell_type": "markdown",
   "metadata": {},
   "source": [
    "### Simpson's rule\n",
    "\n",
    "* Approximate $f$ on $[x_i, x_{i+1}]$ by a quadratic function interpolating $(x_i, f(x_i))$, $\\left(\\frac{x_i + x_{i+1}}{2}, f\\left(\\frac{x_i + x_{i+1}}{2}\\right)\\right)$, and $(x_{i+1}, f(x_{i+1})$, i.e., *equal-spacing* of interpolation points within the equally spaced intervals $[x_i, x_{i+1}]$. The interpolating quadratic is\n",
    "\\begin{align*}\n",
    "    p_i(x) &= f(x_i)\\frac{x - \\frac{x_i + x_{i+1}}{2}}{x_i - \\frac{x_i + x_{i+1}}{2}}\\frac{x - x_{i+1}}{x_i - x_{i+1}} \\\\\n",
    "    & + f\\left(\\frac{x_i + x_{i+1}}{2}\\right)\\frac{x - x_i}{\\frac{x_i + x_{i+1}}{2} - x_i}\\frac{x - x_{i+1}}{\\frac{x_i + x_{i+1}}{2} - x_{i+1}} \\\\\n",
    "    & + f(x_i)\\frac{x - x_i}{x_{i+1} - x_i}\\frac{x - \\frac{x_i + x_{i+1}}{2}}{x_{i+1} - \\frac{x_i + x_{i+1}}{2}}\n",
    "    .\n",
    "\\end{align*}\n",
    "So\n",
    "$$\n",
    "    I_i = \\int_{x_i}^{x_{i+1}}f(x)dx \\approx \\int_{x_i}^{x_{i+1}}p_i(x)dx = \\frac{h}{6} \\left[f(x_i) + 4f\\left(\\frac{x_i + x_{i+1}}{2}\\right) + f(x_{i+1})\\right].\n",
    "$$\n",
    "and\n",
    "\\begin{align*}\n",
    "    I &= \\int_a^b f(x)dx \\approx h\\left(\\frac{1}{6}f(a) + \\frac{2}{3}f(\\frac{x_0 + x_1}{2}) + \\frac{1}{3}f(x_1) + \\frac{2}{3}f(\\frac{x_1 + x_2}{2}) + \\dotsb + \\frac{1}{3}f(x_{n-1}) + \\frac{2}{3}f(\\frac{x_{n-1} + x_n}{2}) + \\frac{1}{6}f(b)\\right) \\\\\n",
    "    &=: S(n)\n",
    "    .\n",
    "\\end{align*}\n",
    "* How accurate is the Simpson rule? Assume  that $f$ is five-times continuously differentiable. Then,\n",
    "$$\n",
    "    f(x) = f(x_i) + (x - x_i)f'(x_i) + \\frac{1}{2}(x - x_i)^2 f''(x_i) + \\frac{1}{6}(x - x_i)^3f^{(3)}(x_i) + \\frac{1}{24}(x - x_i)^4f^{(4)}(x_i) + O(|x - x_i|^5)\n",
    "$$\n",
    "and\n",
    "$$\n",
    "    I_i = \\int_{x_i}^{x_{i+1}}f(x)dx = h f(x_i) + \\frac{h^2}{2}f'(x_i) + \\frac{h^3}{6}f''(x_i) + \\frac{h^4}{24}f^{(3)}(x_i) + \\frac{h^5}{120}f^{(4)}(x_i) + O(h^6)\n",
    "    .\n",
    "$$\n",
    "Also,\n",
    "\\begin{align*}\n",
    "    \\int_{x_i}^{x_{i+1}}p_i(x)dx &= \\frac{h}{6} \\left[f(x_i) + 4f\\left(x_i + \\frac{h}{2}\\right) + f(x_i + h)\\right] \\\\\n",
    "    &= \\frac{h}{6}\\left( f(x_i) + 4f(x_i) + 2h f'(x_i) + \\frac{h^2}{2}f''(x_i) + \\frac{h^3}{12}f^{(3)}(x_i) + \\frac{h^4}{96}f^{(4)}(x_i) \\right.\\\\\n",
    "    & \\left. \\quad + f(x_i) + h f'(x_i) + \\frac{h^2}{2}f''(x_i) + \\frac{h^3}{6}f^{(3)}(x_i) + \\frac{h^4}{24}f^{(4)}(x_i)\n",
    "    O(h^4) \\right) \\\\\n",
    "    &= h f(x_i) + \\frac{h^2}{2}f'(x_i) + \\frac{h^3}{6}f''(x_i) + \\frac{h^4}{24}f^{(3)}(x_i) + \\frac{5h^5}{576}f^{(4)}(x_i) + O(h^6)\n",
    "\\end{align*}\n",
    "Therefore, \n",
    "\\begin{align*}\n",
    "    S(n) - I = \\sum_{i=0}^{n-1}\\left(I_i - \\int_{x_i}^{x_{i+1}}p_i(x)dx\\right) &= -\\frac{h^5}{2880}\\sum_{i=0}^{n-1}f^{(4)}(x_i) + n O(h^5) \\\\\n",
    "    &\\le \\frac{(b-a)^5}{2880n^5} n \\sup_{x\\in [a, b]}|f^{(4)}(x)| + n O\\left(\\frac{(b-a)^6}{n^6}\\right) \\\\\n",
    "    &= O(n^{-4})\n",
    "    .\n",
    "\\end{align*}"
   ]
  },
  {
   "cell_type": "markdown",
   "metadata": {},
   "source": [
    "Note the jump of accuracy order from $O(n^{-2})$ (Trapezoidal) to $O(n^{-4})$ (Simpson)!\n",
    "\n",
    "Also note that Simpson's method use **twice** more points than the Trapezoidal method. Hence for fair comparison, compare them with the same number of evaluation points."
   ]
  },
  {
   "cell_type": "code",
   "execution_count": null,
   "metadata": {},
   "outputs": [],
   "source": [
    "simpson <- function(f, a, b, n) {\n",
    "    h <- (b - a) / n   \n",
    "    i <- seq_len(n - 1)\n",
    "    xi <- a + i * h \n",
    "    xmid <- c(xi - h / 2, b - h / 2)\n",
    "    intgrl <- h * (f(a) + 2 * sum(f(xi)) + 4 * sum(f(xmid)) + f(b)) / 6\n",
    "   \n",
    "    return(intgrl)\n",
    "}"
   ]
  },
  {
   "cell_type": "code",
   "execution_count": null,
   "metadata": {},
   "outputs": [],
   "source": [
    "# f <- function(x) sqrt(1-x^2)   # integrand\n",
    "simpson(f, 0, 1, 100)"
   ]
  },
  {
   "cell_type": "code",
   "execution_count": null,
   "metadata": {},
   "outputs": [],
   "source": [
    "simpson <- function(f, a, b, n) {\n",
    "  h <- (b - a) / n\n",
    "   \n",
    "  xi <- seq.int(a, b, length.out = n + 1)\n",
    "  xi <- xi[-1]\n",
    "  xi <- xi[-length(xi)]\n",
    " \n",
    "  intgrl <- (h / 3) * (f(a) + 2 * sum(f(xi[seq.int(2, length(xi), 2)])) + \n",
    "                       4 * sum(f(xi[seq.int(1, length(xi), 2)])) + f(b))\n",
    "   \n",
    "  return(intgrl)\n",
    "   \n",
    "}"
   ]
  },
  {
   "cell_type": "code",
   "execution_count": null,
   "metadata": {},
   "outputs": [],
   "source": [
    "simpson(f, 0, 1, 100)"
   ]
  },
  {
   "cell_type": "code",
   "execution_count": null,
   "metadata": {},
   "outputs": [],
   "source": [
    "truth"
   ]
  },
  {
   "cell_type": "code",
   "execution_count": null,
   "metadata": {},
   "outputs": [],
   "source": [
    "numsub <- c(10, 100, 1000, 10000, 100000)\n",
    "err_S <- numeric(length(numsub))\n",
    "for (i in seq_along(numsub)) {\n",
    "    n <- numsub[i]\n",
    "    S <- simpson(f, 0, 1, n)\n",
    "    err_S[i] <- S - truth\n",
    "}"
   ]
  },
  {
   "cell_type": "code",
   "execution_count": null,
   "metadata": {},
   "outputs": [],
   "source": [
    "ggplot() + geom_point(aes(x=numsub, y=abs(err_S))) + geom_line(aes(x=numsub, y=abs(err_S))) + \n",
    "scale_x_log10() + scale_y_log10() + theme_bw(base_size = 15)"
   ]
  },
  {
   "cell_type": "code",
   "execution_count": null,
   "metadata": {},
   "outputs": [],
   "source": [
    "comp <- data.frame(method = factor(c(rep(\"riemann\", length(numsub)), rep(\"trapezoidal\", length(numsub)), \n",
    "                                rep(\"simpson\", length(numsub)) )),\n",
    "                   numsub = c(numsub = rep(numsub, 3)), \n",
    "                   error = c(err_R, err_T, err_S) )"
   ]
  },
  {
   "cell_type": "code",
   "execution_count": null,
   "metadata": {},
   "outputs": [],
   "source": [
    "comp"
   ]
  },
  {
   "cell_type": "code",
   "execution_count": null,
   "metadata": {},
   "outputs": [],
   "source": [
    "ggplot(data = comp, aes(numsub, abs(error))) + geom_point(aes(colour=method)) + geom_line(aes(colour=method)) + \n",
    "scale_x_log10() + scale_y_log10() + theme_bw(base_size = 15)"
   ]
  },
  {
   "cell_type": "markdown",
   "metadata": {},
   "source": [
    "### General $m$\n",
    "\n",
    "Use the interpolating polynomial \n",
    "$$\n",
    "p_{ij}(x) = \\prod_{k\\neq j}^m \\frac{x - x_{ik}^*}{x_{ij}^* - x_{ik}^*}\n",
    "$$\n",
    "for equally spaced $x_{ij}^*$ in $[x_i, x_{i+1}]$ such that\n",
    "$$\n",
    "    p_i(x) = \\sum_{j=0}^m f(x_{ij}^*)p_{ij}(x)\n",
    "    .\n",
    "$$"
   ]
  }
 ],
 "metadata": {
  "@webio": {
   "lastCommId": null,
   "lastKernelId": null
  },
  "kernelspec": {
   "display_name": "R",
   "language": "R",
   "name": "ir"
  },
  "language_info": {
   "codemirror_mode": "r",
   "file_extension": ".r",
   "mimetype": "text/x-r-source",
   "name": "R",
   "pygments_lexer": "r",
   "version": "3.6.3"
  },
  "toc": {
   "colors": {
    "hover_highlight": "#DAA520",
    "running_highlight": "#FF0000",
    "selected_highlight": "#FFD700"
   },
   "moveMenuLeft": true,
   "nav_menu": {
    "height": "153px",
    "width": "252px"
   },
   "navigate_menu": true,
   "number_sections": true,
   "sideBar": true,
   "skip_h1_title": true,
   "threshold": 4,
   "toc_cell": true,
   "toc_position": {
    "height": "441.3333435058594px",
    "left": "0px",
    "right": "903.3333129882813px",
    "top": "140.6666717529297px",
    "width": "166px"
   },
   "toc_section_display": "block",
   "toc_window_display": true,
   "widenNotebook": false
  }
 },
 "nbformat": 4,
 "nbformat_minor": 4
}
