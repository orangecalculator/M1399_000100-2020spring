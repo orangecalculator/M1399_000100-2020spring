{
 "cells": [
  {
   "cell_type": "code",
   "execution_count": null,
   "metadata": {},
   "outputs": [],
   "source": [
    "sessionInfo()"
   ]
  },
  {
   "cell_type": "markdown",
   "metadata": {},
   "source": [
    "### Required R packages"
   ]
  },
  {
   "cell_type": "code",
   "execution_count": null,
   "metadata": {},
   "outputs": [],
   "source": [
    "library(Matrix)"
   ]
  },
  {
   "cell_type": "markdown",
   "metadata": {},
   "source": [
    "# Computer methods for solving linear systems of equations\n",
    "\n",
    "We consider computer algorithms for solving linear equations $\\mathbf{A} \\mathbf{x} = \\mathbf{b}$, a ubiquitous task in statistics. "
   ]
  },
  {
   "cell_type": "markdown",
   "metadata": {},
   "source": [
    "### Our mantra\n",
    "\n",
    "> **The form of a mathematical expression and the way the expression should be evaluated in actual practice may be quite different.**\n",
    "\\\n",
    "    -- James Gentle, *Matrix Algebra*, Springer, New York (2007)."
   ]
  },
  {
   "cell_type": "markdown",
   "metadata": {},
   "source": [
    "# Triangular systems\n",
    "\n",
    "Idea: turning original problem into an **easy** one, e.g., triangular system."
   ]
  },
  {
   "cell_type": "markdown",
   "metadata": {},
   "source": [
    "## Lower triangular system\n",
    "\n",
    "To solve $\\mathbf{A} \\mathbf{x} = \\mathbf{b}$, where $\\mathbf{A} \\in \\mathbb{R}^{n \\times n}$ is **lower triangular**\n",
    "\n",
    "$$\n",
    "\\begin{pmatrix}\n",
    "    a_{11} & 0 & \\cdots & 0 \\\\\n",
    "    a_{21} & a_{22} & \\cdots & 0 \\\\\n",
    "    \\vdots & \\vdots & \\ddots & \\vdots \\\\\n",
    "    a_{n1} & a_{n2} & \\cdots & a_{nn}\n",
    "\\end{pmatrix}\n",
    "\\begin{pmatrix}\n",
    "x_1 \\\\ x_2 \\\\ \\vdots \\\\ x_n\n",
    "\\end{pmatrix} = \\begin{pmatrix}\n",
    "b_1 \\\\ b_2 \\\\ \\vdots \\\\ b_n\n",
    "\\end{pmatrix}.\n",
    "$$\n",
    "\n",
    "* **Forward substitution**: \n",
    "$$\n",
    "\\begin{eqnarray*}\n",
    "    x_1 &=& b_1 / a_{11} \\\\\n",
    "    x_2 &=& (b_2 - a_{21} x_1) / a_{22} \\\\\n",
    "    x_3 &=& (b_3 - a_{31} x_1 - a_{32} x_2) / a_{33} \\\\\n",
    "    &\\vdots& \\\\\n",
    "    x_n &=& (b_n - a_{n1} x_1 - a_{n2} x_2 - \\cdots - a_{n,n-1} x_{n-1}) / a_{nn}.\n",
    "\\end{eqnarray*}\n",
    "$$\n",
    "\n",
    "* $1 + 3 + 5 + \\cdots + (2n-1) = n^2$ flops. \n",
    "\n",
    "* $\\mathbf{A}$ can be accessed by row ($ij$ loop) or column ($ji$ loop)."
   ]
  },
  {
   "cell_type": "markdown",
   "metadata": {},
   "source": [
    "## Upper triangular system\n",
    "\n",
    "To solve $\\mathbf{A} \\mathbf{x} = \\mathbf{b}$, where $\\mathbf{A} \\in \\mathbb{R}^{n \\times n}$ is upper triangular  \n",
    "$$\n",
    "\\begin{pmatrix}\n",
    "    a_{11} & \\cdots & a_{1,n-1} & a_{1n} \\\\\n",
    "    \\vdots & \\ddots & \\vdots & \\vdots \\\\\n",
    "    0 & \\cdots & a_{n-1,n-1} & a_{n-1,n} \\\\\n",
    "    0 & 0 & 0 & a_{nn}\n",
    "\\end{pmatrix}\n",
    "\\begin{pmatrix}\n",
    "x_1 \\\\ \\vdots \\\\ x_{n-1} \\\\ x_n\n",
    "\\end{pmatrix} = \\begin{pmatrix}\n",
    "b_1 \\\\ \\vdots \\\\ b_{n-1} \\\\ b_n\n",
    "\\end{pmatrix}.\n",
    "$$\n",
    "\n",
    "* **Back substitution** (backsolve): \n",
    "$$\n",
    "\\begin{eqnarray*}\n",
    "    x_n &=& b_n / a_{nn} \\\\\n",
    "    x_{n-1} &=& (b_{n-1} - a_{n-1,n} x_n) / a_{n-1,n-1} \\\\\n",
    "    x_{n-2} &=& (b_{n-2} - a_{n-2,n-1} x_{n-1} - a_{n-2,n} x_n) / a_{n-2,n-2} \\\\\n",
    "    &\\vdots& \\\\\n",
    "    x_1 &=& (b_1 - a_{12} x_2 - a_{13} x_3 - \\cdots - a_{1,n} x_{n}) / a_{11}.\n",
    "\\end{eqnarray*}\n",
    "$$\n",
    "\n",
    "* $n^2$ flops.\n",
    "\n",
    "* $\\mathbf{A}$ can be accessed by row (`ij` loop) or column (`ji` loop)."
   ]
  },
  {
   "cell_type": "markdown",
   "metadata": {},
   "source": [
    "## Implementation\n",
    "\n",
    "* Most numerical computing software packages (including R) are built on top of the BLAS (_basic linear algebra subprograms_). \n",
    "    - [Netlib](http://www.netlib.org/blas/) provides a reference implementation.  \n",
    "    - Vanila R (the binary that you can download from <https://www.r-project.org>) uses its own implementation of BLAS (see `sessionInfo()` above)\n",
    "\n",
    "* The BLAS triangular system solve is done *in place*, i.e., $\\mathbf{b}$ is **overwritten** by $\\mathbf{x}$.\n",
    "```r\n",
    "    # forward substitution\n",
    "    for (i in seq_len(n)) {\n",
    "        for (j in seq_len(i-1)) {\n",
    "            b[i] <- b[i] - A[i, j] * b[j]\n",
    "        }\n",
    "    }\n",
    "    # backsolve\n",
    "    for (i in rev(seq_len(n))) {\n",
    "        for (j in i + seq_len(max(n - i, 0))) {\n",
    "            b[i] <- b[i] - A[i, j] * b[j]\n",
    "        }\n",
    "        b[i] <- b[i] / A[i, i]\n",
    "    }\n",
    "```\n",
    "\n",
    "* R\n",
    "    - `?backsolve`, `?forwardsolve`\n",
    "    - This is a wrapper for the level-3 BLAS routine [`dtrsm`](http://www.netlib.org/lapack/explore-html/d1/d54/group__double__blas__level3_ga6a0a7704f4a747562c1bd9487e89795c.html#ga6a0a7704f4a747562c1bd9487e89795c)\n",
    "    - The `d` stands for *double precision*."
   ]
  },
  {
   "cell_type": "code",
   "execution_count": null,
   "metadata": {},
   "outputs": [],
   "source": [
    "set.seed(123) # seed\n",
    "n <- 5\n",
    "A <- Matrix(rnorm(n * n), nrow = n)\n",
    "b <- rnorm(n)\n",
    "# a random matrix\n",
    "A"
   ]
  },
  {
   "cell_type": "code",
   "execution_count": null,
   "metadata": {},
   "outputs": [],
   "source": [
    "Al <- lower.tri(A) # Returns a matrix of logicals the same size of a given matrix with entries TRUE in the lower triangle\n",
    "Aupper <- A\n",
    "Aupper[Al] <- 0\n",
    "Aupper"
   ]
  },
  {
   "cell_type": "code",
   "execution_count": null,
   "metadata": {},
   "outputs": [],
   "source": [
    "backsolve(Aupper, b) "
   ]
  },
  {
   "cell_type": "markdown",
   "metadata": {},
   "source": [
    "## Some algebraic facts of triangular system\n",
    "\n",
    "* Eigenvalues of a triangular matrix $\\mathbf{A}$ are diagonal entries $\\lambda_i = a_{ii}$. \n",
    "\n",
    "* Determinant $\\det(\\mathbf{A}) = \\prod_i a_{ii}$.\n",
    "\n",
    "* The product of two upper (lower) triangular matrices is upper (lower) triangular.\n",
    "\n",
    "* The inverse of an upper (lower) triangular matrix is upper (lower) triangular.\n",
    "\n",
    "* The product of two unit upper (lower) triangular matrices is unit upper (lower) triangular.\n",
    "\n",
    "* The inverse of a unit upper (lower) triangular matrix is unit upper (lower) triangular."
   ]
  },
  {
   "cell_type": "markdown",
   "metadata": {},
   "source": [
    "# Gaussian Elimination and LU Decomposition"
   ]
  },
  {
   "cell_type": "markdown",
   "metadata": {},
   "source": [
    "* A [toy example](./gelu.pdf).\n",
    "\n",
    "* [History](https://en.wikipedia.org/wiki/Gaussian_elimination#History): the method is named after Carl Friedrich Gauss (1777–1855), although it stems from the notes of Isaac Newton. If fact, GE was known to [Chinese mathematicians](https://en.wikipedia.org/wiki/The_Nine_Chapters_on_the_Mathematical_Art) as early as 179 AD."
   ]
  },
  {
   "cell_type": "code",
   "execution_count": null,
   "metadata": {},
   "outputs": [],
   "source": [
    "A <- t(Matrix(c(2.0, -4.0, 2.0, 4.0, -9.0, 7.0, 2.0, 1.0, 3.0), ncol=3))  # R used column major ordering\n",
    "A"
   ]
  },
  {
   "cell_type": "code",
   "execution_count": null,
   "metadata": {},
   "outputs": [],
   "source": [
    "b <- c(6.0, 20.0, 14.0)"
   ]
  },
  {
   "cell_type": "code",
   "execution_count": null,
   "metadata": {},
   "outputs": [],
   "source": [
    "# R's way tp solve linear equation\n",
    "\n",
    "solve(A, b)"
   ]
  },
  {
   "cell_type": "markdown",
   "metadata": {},
   "source": [
    "What happens when we call `solve(A, b)`?"
   ]
  },
  {
   "cell_type": "markdown",
   "metadata": {},
   "source": [
    "## Elementary operator matrix\n",
    "\n",
    "* **Elementary operator matrix** is the identity matrix with the 0 in position $(j,k)$ replaced by $c$\n",
    "$$\n",
    "    \\mathbf{E}_{jk}(c) = \\begin{pmatrix}\n",
    "    1 & & \\\\\n",
    "    & \\ddots & \\\\\n",
    "    & & 1 & \\\\\n",
    "    & & & \\ddots & \\\\\n",
    "    & & c & & 1 & \\\\\n",
    "    & & & & & \\ddots \\\\\n",
    "    & & & & & & 1\n",
    "    \\end{pmatrix} = \\mathbf{I} + c \\mathbf{e}_j \\mathbf{e}_k^T.\n",
    "$$\n",
    "\n",
    "* $\\mathbf{E}_{jk}(c)$ is unit triangular, full rank, and its inverse is\n",
    "$$\n",
    "    \\mathbf{E}_{jk}^{-1}(c) = \\mathbf{E}_{jk}(-c).\n",
    "$$\n",
    "\n",
    "* $\\mathbf{E}_{jk}(c)$ left-multiplies an $n \\times m$ matrix $\\mathbf{X}$ effectively replace its $j$-th row $\\mathbf{x}_{j\\cdot}$ by $c \\mathbf{x}_{k \\cdot} + \\mathbf{x}_{j \\cdot}$\n",
    "$$\n",
    "    \\mathbf{E}_{jk}(c) \\times \\mathbf{X} = \\mathbf{E}_{jk}(c) \\times \\begin{pmatrix}\n",
    "    & & \\\\\n",
    "    \\cdots & \\mathbf{x}_{k\\cdot} & \\cdots \\\\\n",
    "    & & \\\\\n",
    "    \\cdots & \\mathbf{x}_{j\\cdot} & \\cdots \\\\\n",
    "    & & \n",
    "    \\end{pmatrix} = \\begin{pmatrix}\n",
    "    & & \\\\\n",
    "    \\cdots & \\mathbf{x}_{k\\cdot} & \\cdots \\\\\n",
    "    & & \\\\\n",
    "    \\cdots & c \\mathbf{x}_{k\\cdot} + \\mathbf{x}_{j\\cdot} & \\cdots \\\\\n",
    "    & & \n",
    "    \\end{pmatrix}.\n",
    "$$\n",
    "$2m$ flops (why?).\n",
    "\n",
    "* Gaussian elimination applies a sequence of elementary operator matrices to transform the linear system $\\mathbf{A} \\mathbf{x} = \\mathbf{b}$ to an upper triangular system\n",
    "$$\n",
    "\\begin{eqnarray*}\n",
    "    \\mathbf{E}_{n,n-1}(c_{n,n-1}) \\cdots \\mathbf{E}_{21}(c_{21}) \\mathbf{A} \\mathbf{x} &=& \\mathbf{E}_{n,n-1}(c_{n,n-1}) \\cdots \\mathbf{E}_{21}(c_{21}) \\mathbf{b} \\\\\n",
    "    \\mathbf{U} \\mathbf{x} &=& \\mathbf{b}_{\\text{new}}.\n",
    "\\end{eqnarray*}\n",
    "$$\n",
    "\n",
    "* Let's get back to our toy example.\n",
    "    \n",
    "    Column 1:"
   ]
  },
  {
   "cell_type": "code",
   "execution_count": null,
   "metadata": {},
   "outputs": [],
   "source": [
    "E21 <- t(Matrix(c(1.0, 0.0, 0.0, -2.0, 1.0, 0.0, 0.0, 0.0, 1.0), nrow=3))  # Step 1, inv(L1)\n",
    "E21"
   ]
  },
  {
   "cell_type": "code",
   "execution_count": null,
   "metadata": {},
   "outputs": [],
   "source": [
    "# zero (2, 1) entry   \n",
    "E21 %*% A   # Step 1, A'"
   ]
  },
  {
   "cell_type": "code",
   "execution_count": null,
   "metadata": {},
   "outputs": [],
   "source": [
    "E31 <- t(Matrix(c(1.0, 0.0, 0.0, 0.0, 1.0, 0.0, -1.0, 0.0, 1.0), nrow=3))  # Step 2, find the corresponding matrix!\n",
    "E31"
   ]
  },
  {
   "cell_type": "code",
   "execution_count": null,
   "metadata": {},
   "outputs": [],
   "source": [
    "# zero (3, 1) entry    \n",
    "E31 %*% E21 %*% A  # Step2, A''"
   ]
  },
  {
   "cell_type": "markdown",
   "metadata": {},
   "source": [
    "    Column 2:"
   ]
  },
  {
   "cell_type": "code",
   "execution_count": null,
   "metadata": {},
   "outputs": [],
   "source": [
    "E32 <- t(Matrix(c(1.0, 0.0, 0.0, 0.0, 1.0, 0.0, 0.0, 5.0, 1.0), nrow=3))  # Step 3, find the corresponding matrix!\n",
    "E32"
   ]
  },
  {
   "cell_type": "code",
   "execution_count": null,
   "metadata": {},
   "outputs": [],
   "source": [
    "# zero (3, 2) entry\n",
    "E32 %*% E31 %*% E21 %*% A   # Step 3, A'''"
   ]
  },
  {
   "cell_type": "markdown",
   "metadata": {},
   "source": [
    "Thus we have arrived at an upper triangular matrix $\\mathbf{U}$."
   ]
  },
  {
   "cell_type": "markdown",
   "metadata": {},
   "source": [
    "## Gauss transformations\n",
    "\n",
    "* For the first column,\n",
    "$$\n",
    "    \\mathbf{M}_1 = \\mathbf{E}_{n1}(c_{n1}) \\cdots \\mathbf{E}_{31}(c_{31}) \\mathbf{E}_{21}(c_{21}) = \\begin{pmatrix}\n",
    "    1 & \\\\\n",
    "    c_{21} & \\\\\n",
    "    & \\ddots & \\\\\n",
    "    c_{n1} & & 1\n",
    "    \\end{pmatrix}\n",
    "$$  \n",
    "For the $k$-th column,\n",
    "$$\n",
    "\t\\mathbf{M}_k = \\mathbf{E}_{nk}(c_{nk}) \\cdots \\mathbf{E}_{k+1,k}(c_{k+1,k}) = \\begin{pmatrix}\n",
    "\t1 & \\\\\n",
    "\t& \\ddots \\\\\n",
    "\t& & 1 & \\\\\n",
    "\t& & c_{k+1,k} & 1\\\\\n",
    "\t& & \\vdots & & \\ddots \\\\\n",
    "\t& &  c_{n,k} & & & 1\n",
    "\t\\end{pmatrix}.\n",
    "$$\n",
    "\n",
    "* $\\mathbf{M}_1, \\ldots, \\mathbf{M}_{n-1}$ are called the **Gauss transformations**."
   ]
  },
  {
   "cell_type": "code",
   "execution_count": null,
   "metadata": {},
   "outputs": [],
   "source": [
    "M1 <- E31 %*% E21  # inv(L2)\n",
    "M1"
   ]
  },
  {
   "cell_type": "code",
   "execution_count": null,
   "metadata": {},
   "outputs": [],
   "source": [
    "M2 <- E32  # inv(L3)\n",
    "M2"
   ]
  },
  {
   "cell_type": "markdown",
   "metadata": {},
   "source": [
    "* Gauss transformations $\\mathbf{M}_k$ are unit triangular, full rank, with inverse\n",
    "$$\n",
    "\t\\mathbf{M}_k^{-1} = \\mathbf{E}_{k+1,k}^{-1}(c_{k+1,k}) \\cdots \\mathbf{E}_{nk}^{-1}(c_{nk}) = \\begin{pmatrix}\n",
    "\t1 & \\\\\n",
    "\t& \\ddots \\\\\n",
    "\t& & 1 & \\\\\n",
    "\t& & - c_{k+1,k}\\\\\n",
    "\t& & \\vdots & & \\ddots \\\\\n",
    "\t& & - c_{n,k} & & & 1\n",
    "\t\\end{pmatrix}.\n",
    "$$"
   ]
  },
  {
   "cell_type": "code",
   "execution_count": null,
   "metadata": {},
   "outputs": [],
   "source": [
    "solve(M1)   # L2. solve(A) give the inverse of A, but use with caution (see below)"
   ]
  },
  {
   "cell_type": "code",
   "execution_count": null,
   "metadata": {},
   "outputs": [],
   "source": [
    "solve(M2)  # L3"
   ]
  },
  {
   "cell_type": "markdown",
   "metadata": {},
   "source": [
    "## LU decomposition\n",
    "\n",
    "Gaussian elimination does\n",
    "$$\n",
    "\\mathbf{M}_{n-1} \\cdots \\mathbf{M}_1 \\mathbf{A} = \\mathbf{U}.\n",
    "$$  \n",
    "Let"
   ]
  },
  {
   "cell_type": "markdown",
   "metadata": {},
   "source": [
    "\\begin{equation*}\n",
    "\\mathbf{L} = \\mathbf{M}_1^{-1} \\cdots \\mathbf{M}_{n-1}^{-1} = \\begin{pmatrix}  \n",
    "\t1 & & & & \\\\\n",
    "\t- c_{21} & \\ddots & & & \\\\\n",
    "\t& & 1 & & \\\\\n",
    "\t- c_{k+1,1} & & - c_{k+1,k} & & \\\\\n",
    "\t& & \\vdots & & \\ddots \\\\\n",
    "\t- c_{n1} & & - c_{nk} & & & 1\n",
    "\t\\end{pmatrix}.\n",
    "\\end{equation*}\n",
    "Thus we have the **LU decomposition**\n",
    "$$\n",
    "\\mathbf{A} = \\mathbf{L} \\mathbf{U},\n",
    "$$\n",
    "where $\\mathbf{L}$ is **unit** lower triangular and $\\mathbf{U}$ is upper triangular.\n",
    "\n",
    "* LU decomposition exists if the principal sub-matrix $\\mathbf{A}[1:k, 1:k]$ is non-singular for $k=1,\\ldots,n-1$.\n",
    "\n",
    "* If the LU decomposition exists and $\\mathbf{A}$ is non-singular, then the LU decmpositon is unique and\n",
    "$$\n",
    "    \\det(\\mathbf{A}) = \\det(\\mathbf{L}) \\det(\\mathbf{U}) = \\prod_{k=1}^n u_{kk}.\n",
    "$$\n",
    "    - This is basically how R (and MATLAB and Julia) compute determinants."
   ]
  },
  {
   "cell_type": "markdown",
   "metadata": {},
   "source": [
    "* The whole LU algorithm is done *in place*, i.e., $\\mathbf{A}$ is **overwritten** by $\\mathbf{L}$ and $\\mathbf{U}$.\n",
    "```r\n",
    "for (k in seq_len(n-1)) {\n",
    "    for (i in k +seq_len(max(n - k, 0))) {\n",
    "        A[i, k] <- A[i, k] / A[k, k]\n",
    "        for (j in k +seq_len(max(n - k, 0))) {\n",
    "            A[i, j] <- A[i, j] - A[i, k] * A[k, j]\n",
    "        }\n",
    "    }\n",
    "}\n",
    "```\n",
    "\n",
    "* The LU decomposition costs\n",
    "$$\n",
    "    2(n-1)^2 + 2(n-2)^2 + \\cdots + 2 \\cdot 1^2 \\approx \\frac 23 n^3 \\quad \\text{flops}.\n",
    "$$\n",
    "\n",
    "<img src=\"http://www.netlib.org/utk/papers/factor/_25826_figure159.gif\" width=\"500\" align=\"center\"/>\n",
    "\n",
    "Source: <http://www.netlib.org>\n",
    "\n",
    "* Actual implementations can differ: outer product LU ($kij$ loop), block outer product LU (higher level-3 fraction), Crout's algorithm ($jki$ loop).\n",
    "\n",
    "* Given LU decomposition $\\mathbf{A} = \\mathbf{L} \\mathbf{U}$, solving $(\\mathbf{L} \\mathbf{U}) \\mathbf{x} = \\mathbf{b}$ for one right hand side costs $2n^2$ flops:\n",
    "    - One forward substitution ($n^2$ flops) to solve\n",
    "    $$\n",
    "    \\mathbf{L} \\mathbf{y} = \\mathbf{b}\n",
    "    $$\n",
    "    - One back substitution ($n^2$ flops) to solve\n",
    "    $$\n",
    "    \\mathbf{U} \\mathbf{x} = \\mathbf{y}\n",
    "    $$\n",
    "    \n",
    "* Therefore to solve $\\mathbf{A} \\mathbf{x} = \\mathbf{b}$ via LU, we need a total of\n",
    "$$\n",
    "    \\frac 23 n^3 + 2n^2 \\quad \\text{flops}.\n",
    "$$\n",
    "\n",
    "* If there are multiple right hand sides, LU only needs to be done once."
   ]
  },
  {
   "cell_type": "markdown",
   "metadata": {},
   "source": [
    "## Matrix inversion\n",
    "\n",
    "* For matrix inversion, there are $n$ right hand sides $\\mathbf{e}_1, \\ldots, \\mathbf{e}_n$. Taking advantage of 0s reduces $2n^3$ flops to $\\frac 43 n^3$ flops. So **matrix inversion via LU** costs\n",
    "$$\n",
    "\\frac 23 n^3 + \\frac 43 n^3 = 2n^3 \\quad \\text{flops}.\n",
    "$$\n",
    "\n",
    "* **No inversion mentality**:  \n",
    "    > **Whenever we see matrix inverse, we should think in terms of solving linear equations.**\n",
    "    > In short, no ```solve(A) %*% b```, but ```solve(A, b)```.\n",
    "\n",
    "    We do not compute matrix inverse unless  \n",
    "    1. it is necessary to compute standard errors  \n",
    "    2. number of right hand sides is much larger than $n$  \n",
    "    3. $n$ is small\n",
    " "
   ]
  },
  {
   "cell_type": "markdown",
   "metadata": {},
   "source": [
    "   \n",
    "## Pivoting    \n",
    "\n",
    "* Let\n",
    "$$\n",
    "    \\mathbf{A} = \\begin{bmatrix}\n",
    "    0 & 1 \\\\\n",
    "    1 & 0 \\\\\n",
    "    \\end{bmatrix}.\n",
    "$$\n",
    "Is there a solution to $\\mathbf{A} \\mathbf{x} = \\mathbf{b}$ for an arbitrary $\\mathbf{b}$? Does GE/LU work for $\\mathbf{A}$?\n",
    "\n",
    "* What if, during LU procedure, the **pivot** $a_{kk}$ is 0 or nearly 0 due to underflow?  \n",
    "     **Example**:\n",
    "$$\n",
    "\\begin{split}\n",
    "0.001x_1 + x_2 &= 1  \\\\\n",
    "     x_1 + x_2 &= 2 \n",
    "\\end{split}\n",
    "$$\n",
    "with solution\n",
    "\n",
    "$$\n",
    "\\begin{bmatrix} x_1 \\\\ x_ 2 \\end{bmatrix}\n",
    "=\n",
    "\\begin{bmatrix} 1.001001 \\\\ 0.998999 \\end{bmatrix}\n",
    "\\approx\n",
    "\\begin{bmatrix} 1.0 \\\\ 1.0 \\end{bmatrix}\n",
    ".\n",
    "$$\n",
    "\n",
    "* With two significant digits, GE yields \n",
    "$$\n",
    "\\begin{split}\n",
    "0.001x_1 + x_2 &= 1  \\\\\n",
    "     (1-1000)x_2 &= 2 - 1000 \n",
    "\\end{split}\n",
    "$$\n",
    "\n",
    "or\n",
    "\n",
    "$$\n",
    "\\begin{split}\n",
    "0.001x_1 + x_2 &= 1 \\\\\n",
    "     -1000 x_2 &= -1000 \n",
    "\\end{split}\n",
    ",\n",
    "$$\n",
    "\n",
    "yielding\n",
    "\n",
    "$$\n",
    "\\begin{bmatrix} x_1 \\\\ x_ 2 \\end{bmatrix}\n",
    "=\n",
    "\\begin{bmatrix} 0.0 \\\\ 1.0 \\end{bmatrix}\n",
    "!\n",
    "$$\n",
    "\n",
    "\n",
    "* Solution: pivoting.\n",
    "\n",
    "$$\n",
    "\\begin{split}\n",
    "     x_1 + x_2 &= 2  \\\\\n",
    "0.001x_1 + x_2 &= 1  \n",
    "\\end{split}\n",
    "$$\n",
    "\n",
    "* With two significant digits, GE yields \n",
    "\n",
    "$$\n",
    "\\begin{split}\n",
    "     x_1 + x_2 &= 2  \\\\\n",
    "     (1-0.001)x_2 &= 1 - 0.001 \n",
    "\\end{split}\n",
    "$$\n",
    "\n",
    "or\n",
    "\n",
    "$$\n",
    "\\begin{split}\n",
    "     x_1 + x_2 &= 2  \\\\\n",
    "     1.0 x_2 &= 1.0\n",
    "\\end{split}\n",
    ",\n",
    "$$\n",
    "\n",
    "yielding\n",
    "\n",
    "$$\n",
    "\\begin{bmatrix} x_1 \\\\ x_ 2 \\end{bmatrix}\n",
    "=\n",
    "\\begin{bmatrix} 1.0 \\\\ 1.0 \\end{bmatrix}\n",
    ".\n",
    "$$\n",
    "\n",
    "\n",
    "* **Partial pivoting**: before zeroing the $k$-th column, move the row with $\\max_{i=k}^n |a_{ik}|$ is into the $k$-th row (called GEPP).\n",
    "\n",
    "* LU with partial pivoting yields\n",
    "$$\n",
    "\t\\mathbf{P} \\mathbf{A} = \\mathbf{L} \\mathbf{U},\n",
    "$$\n",
    "where $\\mathbf{P}$ is a permutation matrix, $\\mathbf{L}$ is unit lower triangular with $|\\ell_{ij}| \\le 1$, and $\\mathbf{U}$ is upper triangular.\n",
    "\n",
    "* Complete pivoting: Do both row and column interchanges so that the largest entry in the sub matrix `A[k:n, k:n]` is permuted to the $(k,k)$-th entry. This yields the decomposition \n",
    "$$\n",
    "\\mathbf{P} \\mathbf{A} \\mathbf{Q} = \\mathbf{L} \\mathbf{U},\n",
    "$$\n",
    "where $|\\ell_{ij}| \\le 1$.\n",
    "\n",
    "* LU decomposition with partial pivoting is the most commonly used methods for solving **general** linear systems. Complete pivoting is the most stable but costs more computation. Partial pivoting is stable most of times."
   ]
  },
  {
   "cell_type": "markdown",
   "metadata": {},
   "source": [
    "## Implementation\n",
    "\n",
    "* LAPACK: [`?GETRF`](http://www.netlib.org/lapack/explore-html/dd/d9a/group__double_g_ecomputational_ga0019443faea08275ca60a734d0593e60.html#ga0019443faea08275ca60a734d0593e60) does $\\mathbf{P} \\mathbf{A} = \\mathbf{L} \\mathbf{U}$ (LU decomposition with partial pivoting) in place.\n",
    "\n",
    "* R: `solve()` implicitly performs LU decomposition (wrapper of LAPACK routine `DGESV`). `solve()` allows specifying a single or multiple right hand sides. If none, it computes the matrix inverse. The `matrix` package contains `lu()` function that outputs `L`, `U`, and `pivot`."
   ]
  },
  {
   "cell_type": "code",
   "execution_count": null,
   "metadata": {},
   "outputs": [],
   "source": [
    "A  # just to recall"
   ]
  },
  {
   "cell_type": "code",
   "execution_count": null,
   "metadata": {},
   "outputs": [],
   "source": [
    "# second argument indicates partial pivoting (default) or not\n",
    "alu <- Matrix::lu(A)\n",
    "class(alu)"
   ]
  },
  {
   "cell_type": "code",
   "execution_count": null,
   "metadata": {},
   "outputs": [],
   "source": [
    "ealu <- expand(alu)"
   ]
  },
  {
   "cell_type": "code",
   "execution_count": null,
   "metadata": {},
   "outputs": [],
   "source": [
    "ealu$L"
   ]
  },
  {
   "cell_type": "code",
   "execution_count": null,
   "metadata": {},
   "outputs": [],
   "source": [
    "ealu$U"
   ]
  },
  {
   "cell_type": "code",
   "execution_count": null,
   "metadata": {},
   "outputs": [],
   "source": [
    "ealu$P"
   ]
  },
  {
   "cell_type": "code",
   "execution_count": null,
   "metadata": {},
   "outputs": [],
   "source": [
    "with(ealu, L %*% U)"
   ]
  },
  {
   "cell_type": "code",
   "execution_count": null,
   "metadata": {},
   "outputs": [],
   "source": [
    "with(ealu, P %*% L %*% U)"
   ]
  },
  {
   "cell_type": "code",
   "execution_count": null,
   "metadata": {},
   "outputs": [],
   "source": [
    "det(A) # this does LU!"
   ]
  },
  {
   "cell_type": "code",
   "execution_count": null,
   "metadata": {},
   "outputs": [],
   "source": [
    "det(ealu$U) # this is cheap"
   ]
  },
  {
   "cell_type": "code",
   "execution_count": null,
   "metadata": {},
   "outputs": [],
   "source": [
    "solve(A) # this does LU!"
   ]
  },
  {
   "cell_type": "code",
   "execution_count": null,
   "metadata": {},
   "outputs": [],
   "source": [
    "with(ealu, solve(U) %*% solve(L) %*% t(P) ) # this is cheap"
   ]
  }
 ],
 "metadata": {
  "@webio": {
   "lastCommId": null,
   "lastKernelId": null
  },
  "kernelspec": {
   "display_name": "R",
   "language": "R",
   "name": "ir"
  },
  "language_info": {
   "codemirror_mode": "r",
   "file_extension": ".r",
   "mimetype": "text/x-r-source",
   "name": "R",
   "pygments_lexer": "r",
   "version": "3.6.3"
  },
  "toc": {
   "colors": {
    "hover_highlight": "#DAA520",
    "running_highlight": "#FF0000",
    "selected_highlight": "#FFD700"
   },
   "moveMenuLeft": true,
   "nav_menu": {
    "height": "30px",
    "width": "252px"
   },
   "navigate_menu": true,
   "number_sections": true,
   "sideBar": true,
   "skip_h1_title": true,
   "threshold": 4,
   "toc_cell": true,
   "toc_section_display": "block",
   "toc_window_display": true,
   "widenNotebook": false
  }
 },
 "nbformat": 4,
 "nbformat_minor": 4
}
